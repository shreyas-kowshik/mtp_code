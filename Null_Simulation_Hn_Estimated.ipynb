{
 "cells": [
  {
   "cell_type": "code",
   "execution_count": 10,
   "metadata": {},
   "outputs": [],
   "source": [
    "library(\"matrixStats\")\n",
    "library(\"cointReg\")\n",
    "library(\"ramify\")\n",
    "library(\"parallel\")\n",
    "\n",
    "# Include files #\n",
    "source(\"utils.R\")\n",
    "source(\"kernel.R\")\n",
    "source(\"variance_est.R\")\n",
    "source(\"custom_statistic.R\")\n",
    "source(\"cp2010_statistic.R\")"
   ]
  },
  {
   "cell_type": "code",
   "execution_count": 11,
   "metadata": {
    "collapsed": true
   },
   "outputs": [],
   "source": [
    "n<-200\n",
    "rho<-0.6\n",
    "sigma<-0.5\n",
    "m1<-1.0\n",
    "k<-as.integer(n/2) + 10\n",
    "itrn1<-1\n",
    "\n",
    "lambdas<-seq(0.1,3.0,by=0.2)\n",
    "kernel<-\"ba\"\n",
    "bandwidth<-9.0"
   ]
  },
  {
   "cell_type": "code",
   "execution_count": 12,
   "metadata": {
    "collapsed": true
   },
   "outputs": [],
   "source": [
    "# x<-ar1_data(n, k, m1, m1, rho, sigma)\n",
    "# gn<-Gn(x)\n",
    "# hn<-Hn_estimated(x, lambdas, kernel, bandwidth)"
   ]
  },
  {
   "cell_type": "code",
   "execution_count": 13,
   "metadata": {
    "collapsed": true
   },
   "outputs": [],
   "source": [
    "# Simulate and compute statistics #\n",
    "simulate<-function(n,k,mu1,mu2,itrn1,rho,sigma){\n",
    "  # One array per statistic\n",
    "  g<-array(0,dim=c(itrn1,2))\n",
    "  h<-array(0,dim=c(itrn1,2)) # For custom statistic\n",
    "\n",
    "  for (i in  1 : itrn1){\n",
    "    x<-gdata(n,k,mu1,mu2,rho,sigma)\n",
    "    g[i,]<-gn(x,n)\n",
    "    # Add new statistic here\n",
    "    h[i,]<-Hn(x,n,sigma,rho)\n",
    "  }\n",
    " \n",
    "  list(g, h)\n",
    "}\n"
   ]
  },
  {
   "cell_type": "code",
   "execution_count": 14,
   "metadata": {
    "collapsed": true
   },
   "outputs": [],
   "source": [
    "null_simul_hn<-function(n,k,mu1,itrn1,rho,sigma){\n",
    "  q<-c(0.9,0.95,0.99)\n",
    "\n",
    "  # One array per statistic\n",
    "  h<-array(0,dim=c(itrn1,2)) # For custom statistic\n",
    "\n",
    "  for (i in  1 : itrn1){\n",
    "    x<-ar1_data(n, k, mu1, mu1, rho, sigma)\n",
    "    # Add new statistic here\n",
    "    h[i,]<-Hn_estimated(x, lambdas, kernel, bandwidth)\n",
    "  }\n",
    "  h\n",
    "}"
   ]
  },
  {
   "cell_type": "code",
   "execution_count": 15,
   "metadata": {},
   "outputs": [
    {
     "name": "stdout",
     "output_type": "stream",
     "text": [
      "Time difference of 2.474131 hours\n"
     ]
    }
   ],
   "source": [
    "begin<-Sys.time()\n",
    "hn_sim_stats<-null_simul_hn(n, k, m1, 500, rho, sigma)\n",
    "end<-Sys.time()\n",
    "print(end-begin)"
   ]
  },
  {
   "cell_type": "code",
   "execution_count": 16,
   "metadata": {},
   "outputs": [
    {
     "name": "stderr",
     "output_type": "stream",
     "text": [
      "Warning message in gzfile(file, \"rb\"):\n",
      "“cannot open compressed file 'hn_estimated_sims_500_n_1000_rho_6.RDS', probable reason 'No such file or directory'”\n"
     ]
    },
    {
     "ename": "ERROR",
     "evalue": "Error in gzfile(file, \"rb\"): cannot open the connection\n",
     "output_type": "error",
     "traceback": [
      "Error in gzfile(file, \"rb\"): cannot open the connection\nTraceback:\n",
      "1. readRDS(file = \"hn_estimated_sims_500_n_1000_rho_6.RDS\")",
      "2. gzfile(file, \"rb\")"
     ]
    }
   ],
   "source": [
    "# saveRDS(hn_sim_stats, file = \"hn_estimated_sims_500.RDS\")\n",
    "hn_sim_stats<-readRDS(file=\"hn_estimated_sims_500_n_1000_rho_6.RDS\")"
   ]
  },
  {
   "cell_type": "code",
   "execution_count": null,
   "metadata": {
    "collapsed": true
   },
   "outputs": [],
   "source": []
  },
  {
   "cell_type": "code",
   "execution_count": null,
   "metadata": {
    "collapsed": true
   },
   "outputs": [],
   "source": []
  },
  {
   "cell_type": "code",
   "execution_count": 7,
   "metadata": {
    "collapsed": true
   },
   "outputs": [],
   "source": [
    "parallel_simulation<-function(i) {\n",
    "    hn_stats<-null_simul_hn(n, k, m1, 500, rho, sigma)\n",
    "    return(hn_stats)\n",
    "}"
   ]
  },
  {
   "cell_type": "code",
   "execution_count": 8,
   "metadata": {
    "collapsed": true
   },
   "outputs": [],
   "source": [
    "input_arr<-array(0, dim=c(itrn1))\n",
    "for(i in 1:itrn1) {\n",
    "    input_arr[i]<-i\n",
    "}"
   ]
  },
  {
   "cell_type": "code",
   "execution_count": 9,
   "metadata": {
    "collapsed": true
   },
   "outputs": [],
   "source": [
    "begin<-Sys.time()\n",
    "r <- mclapply(input_arr, parallel_simulation, mc.cores=6)      ## Split this job across 10 cores\n",
    "end<-Sys.time()\n",
    "print(end-begin)"
   ]
  },
  {
   "cell_type": "code",
   "execution_count": null,
   "metadata": {
    "collapsed": true
   },
   "outputs": [],
   "source": []
  },
  {
   "cell_type": "code",
   "execution_count": null,
   "metadata": {
    "collapsed": true
   },
   "outputs": [],
   "source": []
  },
  {
   "cell_type": "code",
   "execution_count": null,
   "metadata": {
    "collapsed": true
   },
   "outputs": [],
   "source": [
    "# saveRDS(hn_sim_stats, file = \"hn_estimated_sims_500.RDS\")\n",
    "hn_sim_stats<-readRDS(file=\"hn_estimated_sims_500_n_1000.RDS\")"
   ]
  },
  {
   "cell_type": "code",
   "execution_count": null,
   "metadata": {
    "collapsed": true
   },
   "outputs": [],
   "source": [
    "hist(hn_sim_stats[,2])"
   ]
  },
  {
   "cell_type": "code",
   "execution_count": null,
   "metadata": {
    "collapsed": true
   },
   "outputs": [],
   "source": []
  },
  {
   "cell_type": "code",
   "execution_count": null,
   "metadata": {
    "collapsed": true
   },
   "outputs": [],
   "source": []
  },
  {
   "cell_type": "code",
   "execution_count": 79,
   "metadata": {
    "collapsed": true
   },
   "outputs": [],
   "source": [
    "q<-c(0.9,0.95,0.99)\n",
    "hcut<-quantile(hn_sim_stats[,2], probs=q)"
   ]
  },
  {
   "cell_type": "code",
   "execution_count": 80,
   "metadata": {
    "collapsed": true
   },
   "outputs": [],
   "source": [
    "gn_sim_stats_<-readRDS(file=\"sim_stats_null_G.RDS\")\n",
    "gn_sim_stats<-gn_sim_stats_[17,,]"
   ]
  },
  {
   "cell_type": "code",
   "execution_count": null,
   "metadata": {
    "collapsed": true
   },
   "outputs": [],
   "source": []
  }
 ],
 "metadata": {
  "kernelspec": {
   "display_name": "R",
   "language": "R",
   "name": "ir"
  },
  "language_info": {
   "codemirror_mode": "r",
   "file_extension": ".r",
   "mimetype": "text/x-r-source",
   "name": "R",
   "pygments_lexer": "r",
   "version": "3.4.4"
  }
 },
 "nbformat": 4,
 "nbformat_minor": 5
}
